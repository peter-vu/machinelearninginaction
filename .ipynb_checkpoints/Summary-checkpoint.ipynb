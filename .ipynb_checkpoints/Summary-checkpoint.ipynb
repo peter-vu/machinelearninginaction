{
 "cells": [
  {
   "cell_type": "markdown",
   "metadata": {},
   "source": [
    "# Summary of statistics"
   ]
  },
  {
   "cell_type": "markdown",
   "metadata": {},
   "source": [
    "x<sub>1</sub>,x<sub>2</sub>...x<sub>n</sub> is sample data of observations on a variable x, where n is the sample size\\\n",
    "$\\overline{x}$ : Sample mean\\\n",
    "$\\mu$ : Population mean \\\n",
    "$\\sigma, \\sigma^2$: Population standard deviation and population variance: Measure variablity of the population\\\n",
    "x<sub>1</sub> - $\\overline{x}$, x<sub>2</sub> - $\\overline{x}$.. ,x<sub>n</sub> - $\\overline{x}$: Deviations from the mean \\\n",
    "$\\Sigma(x-\\overline{x}$) = 0\n"
   ]
  },
  {
   "cell_type": "markdown",
   "metadata": {},
   "source": [
    "Quartile and inter quartile: separate lowest 25%, upper most 25%.\\\n",
    "Inter quartile (iqr) is less sensitive to ouliers than standard deviation s.\\\n",
    "iqr range = \\[Quartile 1 ~ quartile 3\\], i.e from 25% ~ 75% of the population data\n"
   ]
  },
  {
   "cell_type": "markdown",
   "metadata": {},
   "source": [
    "Sample variance: $s^2=\\frac{\\Sigma(x-\\overline{x})^2}{n-1}$\\\n",
    "Sample standard deviation: $s=\\sqrt{s^2}$= $\\sqrt{\\frac{\\Sigma(x-\\overline{x})^2}{n-1}}$"
   ]
  },
  {
   "cell_type": "markdown",
   "metadata": {},
   "source": [
    "Cherbyshev's rule: for any $k \\geq 1$, at least $100(1-\\frac{1}{k^2})%$ of the observation in any data set are within $k$ standard deviation of the mean. (Very conservative)"
   ]
  },
  {
   "cell_type": "markdown",
   "metadata": {},
   "source": [
    "Empirical's rule: Approximation percentage of observations within 1 standard deviation (68%), 2 standard deviations (95%) and 3 standard deviations (99.7%) if histogram is well approximated by a normal curve"
   ]
  }
 ],
 "metadata": {
  "kernelspec": {
   "display_name": "Python 3",
   "language": "python",
   "name": "python3"
  },
  "language_info": {
   "codemirror_mode": {
    "name": "ipython",
    "version": 3
   },
   "file_extension": ".py",
   "mimetype": "text/x-python",
   "name": "python",
   "nbconvert_exporter": "python",
   "pygments_lexer": "ipython3",
   "version": "3.7.7"
  }
 },
 "nbformat": 4,
 "nbformat_minor": 4
}
