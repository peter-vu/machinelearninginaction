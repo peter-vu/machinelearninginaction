{
 "cells": [
  {
   "cell_type": "markdown",
   "metadata": {},
   "source": [
    "# Summary of statistics"
   ]
  },
  {
   "cell_type": "markdown",
   "metadata": {},
   "source": [
    "## 4"
   ]
  },
  {
   "cell_type": "markdown",
   "metadata": {},
   "source": [
    "x<sub>1</sub>,x<sub>2</sub>...x<sub>n</sub> is sample data of observations on a variable x, where n is the sample size\\\n",
    "$\\overline{x}$ : Sample mean\\\n",
    "$\\mu$ : Population mean \\\n",
    "$\\sigma, \\sigma^2$: Population standard deviation and population variance: Measure variablity of the population\\\n",
    "x<sub>1</sub> - $\\overline{x}$, x<sub>2</sub> - $\\overline{x}$.. ,x<sub>n</sub> - $\\overline{x}$: Deviations from the mean \\\n",
    "$\\Sigma(x-\\overline{x}$) = 0\n"
   ]
  },
  {
   "cell_type": "markdown",
   "metadata": {},
   "source": [
    "<b>Quartile and inter quartile:</b> separate lowest 25%, upper most 25%.\\\n",
    "<b>Inter quartile (iqr)</b> is less sensitive to ouliers than standard deviation s.\\\n",
    "<b>iqr range</b> = \\[Quartile 1 ~ quartile 3\\], i.e from 25% ~ 75% of the population data\n"
   ]
  },
  {
   "cell_type": "markdown",
   "metadata": {},
   "source": [
    "<b>Sample variance:</b> $s^2=\\frac{\\Sigma(x-\\overline{x})^2}{n-1}$\\\n",
    "<b>Sample standard deviation:</b> $s=\\sqrt{s^2}$= $\\sqrt{\\frac{\\Sigma(x-\\overline{x})^2}{n-1}}$"
   ]
  },
  {
   "cell_type": "markdown",
   "metadata": {},
   "source": [
    "\n",
    "\n",
    "<b>Cherbyshev's rule:</b> for any $k \\geq 1$, at least $100(1-\\frac{1}{k^2})%$ of the observation in any data set are within $k$ standard deviation of the mean. (Very conservative)"
   ]
  },
  {
   "cell_type": "markdown",
   "metadata": {},
   "source": [
    "<b>Empirical's rule:</b> Approximation percentage of observations within 1 standard deviation (68%), 2 standard deviations (95%) and 3 standard deviations (99.7%) if histogram is well approximated by a normal curve"
   ]
  },
  {
   "cell_type": "markdown",
   "metadata": {},
   "source": [
    "<b>$z$ score:</b> Distance between and observation and the mean expressed, as a certain number of standard deviation."
   ]
  },
  {
   "cell_type": "markdown",
   "metadata": {},
   "source": [
    "<b>Five number summary:</b> minimum, lower quartile, median, upper quartile and maximum"
   ]
  },
  {
   "cell_type": "markdown",
   "metadata": {},
   "source": [
    "## 5"
   ]
  },
  {
   "cell_type": "markdown",
   "metadata": {},
   "source": [
    "<b>Scatter plot:</b> graph of bivariate numerical data, in which each observation (x,y) is represented as a point located with respect to a horizontal x axis and a vertical y axis"
   ]
  },
  {
   "cell_type": "markdown",
   "metadata": {},
   "source": [
    "<b>Pearon's sample correlation coefficient:</b> $r = \\frac{\\Sigma z_{x}z_{y}}{n-1}$ \\\n",
    "A measure of the extent to which sample x and y values are linearly related: $-1\\leq r \\leq 1$, so values close to 1 or -1 indicate a strong linear relationship."
   ]
  },
  {
   "cell_type": "markdown",
   "metadata": {},
   "source": [
    "<b>Principle of least squares:</b> Method used to select a line that summarizes an approximate linear relationship between x and y. The least-square line is the line that minimizes the sum of the squared error (vertical deviations) for the points in the scatterplot."
   ]
  },
  {
   "cell_type": "markdown",
   "metadata": {},
   "source": [
    "<b>The slope of least-squares line:</b> $b = \\frac{\\Sigma(x-\\overline{x})(y-\\overline{y})}{\\Sigma(x-\\overline{x})^2}$\\\n",
    "<b>The intercept of the least-square line:</b> $a = \\overline{y} - b\\overline{x}$\n"
   ]
  },
  {
   "cell_type": "markdown",
   "metadata": {},
   "source": [
    "<b>Predicted (fitted) values:</b> $\\hat{y_1},\\hat{y_2},...\\hat{y_n}$ : Obtained by substituting for each observation in the data set into the least-squares line: $\\hat{y_1} = a + bx_1,...\\hat{y_n} = a + bx_n$"
   ]
  },
  {
   "cell_type": "markdown",
   "metadata": {},
   "source": [
    "<b>Residual</b>: Obtained by substracting each predicted value from the corresponding observed y value: $y_1 - \\hat{y_1},...,y_n - \\hat{y_n} $\\\n",
    "<b>Residual plot:</b> Scatter plot of the (x, residual) pairs. Isolated points or a pattern of points in a residual plot are indicative of potential problems. "
   ]
  },
  {
   "cell_type": "markdown",
   "metadata": {},
   "source": [
    "<b>Residual (error) sum of squares: </b> SSResid = $\\Sigma(y - \\hat{y})^2$\\\n",
    "A measure of y variation that cannot be attributed to an approximate linear relationship (unexplained variation)"
   ]
  },
  {
   "cell_type": "markdown",
   "metadata": {},
   "source": [
    "<b>Total sum of squares: </b>SSTo = $\\Sigma(y - \\overline{y})^2$\\\n",
    "Sum of squared deviation from the sample mean is a measure of total variation in the observed y values.\n"
   ]
  },
  {
   "cell_type": "markdown",
   "metadata": {},
   "source": [
    "<b>Coefficient of determination:</b> $r^2 = 1 - \\frac{SSResid}{SSTo}$\\\n",
    "The proportion of variation in observed y's that can be explained by an approximate linear relationship"
   ]
  },
  {
   "cell_type": "markdown",
   "metadata": {},
   "source": [
    "<b>Standard deviation of least-square line:</b> $s_e = \\sqrt{\\frac{SSResid}{n-2}}$\n",
    "\n"
   ]
  },
  {
   "cell_type": "markdown",
   "metadata": {},
   "source": [
    "<b>Logistic regression function:</b> $p = \\frac{e^{a+bx}}{1+e^{a+bx}}$\\\n",
    "Thie graph is an S-shaped curve. The logistic regression function is used to describe the relationship between probability of success and a numerical predictor variable."
   ]
  },
  {
   "cell_type": "markdown",
   "metadata": {},
   "source": [
    "## 6\n"
   ]
  },
  {
   "cell_type": "markdown",
   "metadata": {},
   "source": [
    "<b>Conditional probability:</b> $P(E|F) = \\frac{P(E \\cap F)}{P(F)}$\\\n",
    "<b>Independence of events E and F: </b> $P(E|F) = P(E)$\\\n",
    "<b>Multiplication rules of independent events</b> $P(E\\cap F) = P(E)P(F)$\\\n",
    "<b>Bayes' rule with $B_1,B_2,..B_k$ are disjoint events and $P(B_1)+..+P(B_k) = 1:$</b>\n",
    "<div align='center'>$P(B_i|E) = \\frac{P(E|B_i)P(B_i)}{P(E|B_1)P(B_1)+P(E|B_2)P(B_2)+...+P(E|B_k)P(B_k)}$</div>"
   ]
  },
  {
   "cell_type": "markdown",
   "metadata": {},
   "source": [
    "# 7"
   ]
  },
  {
   "cell_type": "markdown",
   "metadata": {},
   "source": [
    "<b>Random variable: discrete or continuous</b>: A numerical value with a value determined by the outcome of a chance experiment.\\\n",
    "<b>Probability distribution of a discrete random variable x: </b> A formula, table, graph that gives the probability associated with each possible x value. Conditions on $p(x)$ are:\\\n",
    "(1)$p(x) \\geq 0$\\\n",
    "(2)$\\Sigma p(x) = 1$\\\n",
    "<b>Probability distribution of a continuous random variable x: </b> Specified by a smooth (density) curve for which the total area under the curve is 1. The probability $P(a < x < b)$ is the area under the curve and above the interval from a to b. This is also $P(a \\leq x \\leq b)$\\\n",
    "<b>$\\mu_x$ and $\\sigma_x$</b>: The mean and standard deviation, respectively of a random variable x. These quantities describe the center and extent of spread about the center of the variable's probability distribution."
   ]
  },
  {
   "cell_type": "markdown",
   "metadata": {},
   "source": [
    "$\\mu_x = \\Sigma xp(x)$\\\n",
    "The mean value of a discrete random variable x; it locates athe center of the variables' probability distribution\\\n",
    "$\\sigma^2_x = \\Sigma(x-\\mu_x)^2p(x)$\\\n",
    "$\\sigma_x = \\sqrt{\\sigma^2_x}$\\\n",
    "The variance and standard deviation, of a discrete random variable. These are measures of the extent to which the variable's distribution spreads out about the mean $\\mu_x$"
   ]
  },
  {
   "cell_type": "markdown",
   "metadata": {},
   "source": [
    "<b>Binomial probability distribution: </b> $p(x) = \\frac{n!}{x!(n-x)!}p^x(1-p)^{n-x}$\\\n",
    "This formula gives the probability of observing x successes (x = 0,1,..n) among n trials of a binomial experiment\\\n",
    "$\\mu_x = np$\\\n",
    "$\\sigma_x = \\sqrt{np(1-p}$\\\n",
    "The mean and standard deviation of a binomial random variable"
   ]
  },
  {
   "cell_type": "markdown",
   "metadata": {},
   "source": [
    "<b>Normal Distribution:</b> A continuous probability distribution that has a bell-shaped density curve. A particular normal distribution is determined by specifying values of $\\mu$ and $\\sigma$\\\n",
    "<b>Standard normal distribution:</b> This is normal distribution with $\\mu=0$ and $\\sigma=1$. The density curve is called the z curve and z is the letter commonly used to denote a variable having this distribution. Areas under z curve to the left of various values are given. i.e. $P(Z \\leq A)$\\\n",
    "$z = \\frac{x - \\mu}{\\sigma}$\\\n",
    "z is obtained by \"standardizing\": subtracting the mean and then dividing by the standard deviation, when x has a normal distribution, z has a standard normal distribution."
   ]
  },
  {
   "cell_type": "markdown",
   "metadata": {},
   "source": [
    "When both $np \\geq 10$ and $n(1-p) \\geq 10$, binomial probabilities are well approximated by corresponding areas under the normal curve with $\\mu=np$ and $\\sigma=\\sqrt{np(1-p)}$"
   ]
  },
  {
   "cell_type": "markdown",
   "metadata": {},
   "source": [
    "## 8"
   ]
  },
  {
   "cell_type": "markdown",
   "metadata": {},
   "source": [
    "<b>Sampling distribution of $\\overline{x}$</b>\\\n",
    "The probability distribution of sample mean $\\overline{x}$ based on a random sample of size n. Properties of the $\\overline{x}$ sampling distribution: $\\mu_x=\\mu$ and $\\sigma_x = \\frac{\\sigma}{\\sqrt{n}}$\\\n",
    "When the population distribution is normal or sample size is large, then the sampling distribution of $\\overline{x}$ is approximatedly normal\\\n",
    "<b>Central Limit Theorem</b>\\\n",
    "When n is sufficiently large, the $\\overline{x}$ distribution will be approximately normal: when n is greater than 30\\\n",
    "<b>Sampling distribution of $\\hat{p}$</b>\\\n",
    "The probability distribution of the sample proportion $\\hat{p}$, based on a random sample of size n. When the sample size is sufficiently large, the sampling distribution of $\\hat{p}$ is approximately normal with $\\mu_\\hat{p} = p$ and $\\sigma_\\hat{p}=\\sqrt{\\frac{p(1-p)}{n}}$ where p is the value of the population proportion. "
   ]
  },
  {
   "cell_type": "markdown",
   "metadata": {},
   "source": [
    "## 9"
   ]
  },
  {
   "cell_type": "markdown",
   "metadata": {},
   "source": [
    "<b>Point Estimate</b> A Single number, based on sample data, that represents a plausible value of a population characteristics\\\n",
    "<b>Confidence Interval</b> An interval that is computed from sample data, and provides a range of plausible values for a population characteristics\\\n",
    "<b>Confidence Level</b> A number that provides information on how much \"confidence\" we can have in the method used to construct a confidence interval estimate. The confidence level specifies the percentage of <b>all possible samples</b> that will produce an interval containing the value of the population characteristic."
   ]
  }
 ],
 "metadata": {
  "kernelspec": {
   "display_name": "Python 3",
   "language": "python",
   "name": "python3"
  },
  "language_info": {
   "codemirror_mode": {
    "name": "ipython",
    "version": 3
   },
   "file_extension": ".py",
   "mimetype": "text/x-python",
   "name": "python",
   "nbconvert_exporter": "python",
   "pygments_lexer": "ipython3",
   "version": "3.7.7"
  }
 },
 "nbformat": 4,
 "nbformat_minor": 4
}
