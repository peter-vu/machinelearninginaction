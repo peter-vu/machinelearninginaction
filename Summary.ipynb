{
 "cells": [
  {
   "cell_type": "markdown",
   "metadata": {},
   "source": [
    "# Summary of statistics"
   ]
  },
  {
   "cell_type": "markdown",
   "metadata": {},
   "source": [
    "x<sub>1</sub>,x<sub>2</sub>...x<sub>n</sub> is sample data of observations on a variable x, where n is the sample size\\\n",
    "$\\overline{x}$ : Sample mean\\\n",
    "$\\mu$ : Popular mean \\\n",
    "x<sub>1</sub> - $\\overline{x}$, x<sub>2</sub> - $\\overline{x}$.. ,x<sub>n</sub> - $\\overline{x}$: Deviations from the mean \\\n",
    "$\\Sigma$(x-$\\overline{x}$) = 0\\\n",
    "Test\n"
   ]
  },
  {
   "cell_type": "markdown",
   "metadata": {},
   "source": []
  }
 ],
 "metadata": {
  "kernelspec": {
   "display_name": "Python 3",
   "language": "python",
   "name": "python3"
  },
  "language_info": {
   "codemirror_mode": {
    "name": "ipython",
    "version": 3
   },
   "file_extension": ".py",
   "mimetype": "text/x-python",
   "name": "python",
   "nbconvert_exporter": "python",
   "pygments_lexer": "ipython3",
   "version": "3.7.6"
  }
 },
 "nbformat": 4,
 "nbformat_minor": 4
}
